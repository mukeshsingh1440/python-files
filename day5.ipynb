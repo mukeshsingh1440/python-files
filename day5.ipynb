{
 "cells": [
  {
   "cell_type": "code",
   "execution_count": 3,
   "metadata": {},
   "outputs": [
    {
     "name": "stdout",
     "output_type": "stream",
     "text": [
      "9\n",
      "count is: 9 sum of digits is: 45\n"
     ]
    }
   ],
   "source": [
    "#count no of digits in the given string\n",
    "#input:\"python123is456good789\"\n",
    "#output:9\n",
    "s=\"python123is456good789\"\n",
    "i=0\n",
    "count=0\n",
    "sum=0\n",
    "while i<len(s):\n",
    "    if s[i].isdigit():\n",
    "        count+=1\n",
    "        sum+=int(s[i])\n",
    "    i+=1\n",
    "\n",
    "    \n",
    "    \n",
    "    \n",
    "    \n",
    "print(count)\n",
    "print(\"count is:\",count,\"sum of digits is:\",sum)"
   ]
  },
  {
   "cell_type": "code",
   "execution_count": 10,
   "metadata": {},
   "outputs": [
    {
     "name": "stdout",
     "output_type": "stream",
     "text": [
      "enter a number10\n",
      "1 4 7 10 "
     ]
    }
   ],
   "source": [
    "#for loop\n",
    "#1. using range()\n",
    "#2. using iterable object\n",
    "n= int(input(\"enter a number\"))\n",
    "for i in range(1,n+1,3):\n",
    "    print(i,end=\" \")"
   ]
  },
  {
   "cell_type": "code",
   "execution_count": 14,
   "metadata": {},
   "outputs": [
    {
     "name": "stdout",
     "output_type": "stream",
     "text": [
      "python\n",
      "p y t h o n \n",
      "p y t h o n \n",
      "p y t h o n "
     ]
    }
   ],
   "source": [
    "#input:python\n",
    "#output:p y t h o n\n",
    "s=input()\n",
    "i=0\n",
    "while  i<len(s):\n",
    "    print(s[i],end=\" \")\n",
    "    i+=1\n",
    "print()\n",
    "for i in range(0,len(s)):\n",
    "    print(s[i],end=\" \")\n",
    "print()\n",
    "for i in s:\n",
    "    print(i,end=\" \")\n"
   ]
  },
  {
   "cell_type": "markdown",
   "metadata": {},
   "source": [
    "# collection type data type:\n",
    "## list\n",
    "1. for creating a list use[]\n",
    "2. list are mutable\n",
    "3. list are indexed\n",
    "4. list are ordered\n",
    "5. list allows duplicate values\n",
    "6. it stores heterogeneous values"
   ]
  },
  {
   "cell_type": "code",
   "execution_count": 21,
   "metadata": {},
   "outputs": [
    {
     "name": "stdout",
     "output_type": "stream",
     "text": [
      "[1, 2, 3]\n",
      "[456, 56.67]\n",
      "gnirts\n",
      "[3, 1]\n"
     ]
    }
   ],
   "source": [
    "list1=[23,34,456,56.67,\"string\",True,[1,2,3,]]\n",
    "print(list1[-1])\n",
    "print(list1[2:4])\n",
    "print(list1[-3][::-1])\n",
    "print(list1[-1][::-2])"
   ]
  },
  {
   "cell_type": "code",
   "execution_count": 22,
   "metadata": {},
   "outputs": [
    {
     "name": "stdout",
     "output_type": "stream",
     "text": [
      "before adding elements: [34, 45, 56, 67]\n",
      "after adding elements: [34, 45, 56, 67, 100, 200, 300]\n"
     ]
    }
   ],
   "source": [
    "#manipulating a list\n",
    "#1. adding elements\n",
    "list1 = [34,45,56,67]\n",
    "print(\"before adding elements:\",list1)\n",
    "list1.append(100)\n",
    "list1.append(200)\n",
    "list1.append(300)\n",
    "print(\"after adding elements:\",list1)"
   ]
  },
  {
   "cell_type": "code",
   "execution_count": 23,
   "metadata": {},
   "outputs": [
    {
     "data": {
      "text/plain": [
       "[34, 400, 45, 56, 67, 100, 200, 300]"
      ]
     },
     "execution_count": 23,
     "metadata": {},
     "output_type": "execute_result"
    }
   ],
   "source": [
    "list1.insert(1,400)\n",
    "list1"
   ]
  },
  {
   "cell_type": "code",
   "execution_count": 29,
   "metadata": {
    "scrolled": false
   },
   "outputs": [
    {
     "name": "stdout",
     "output_type": "stream",
     "text": [
      "[34, 400, 45, 56, 67, 100, 200, 300, 1, 2, 3, 1, 2, 3, 1, 3, 3, 1, 4, 3, 1, 4, 3, 1, 8, 3]\n"
     ]
    }
   ],
   "source": [
    "list1.extend([1,8,3])\n",
    "list1"
   ]
  },
  {
   "cell_type": "code",
   "execution_count": 30,
   "metadata": {},
   "outputs": [
    {
     "name": "stdout",
     "output_type": "stream",
     "text": [
      "[34, 400, 45, 56, 67, 100, 200, 300, 1, 2, 3, 1, 2, 3, 1, 3, 3, 1, 4, 3, 1, 4, 3, 1, 8]\n"
     ]
    }
   ],
   "source": [
    "#removing elements from the list\n",
    "list1.pop()\n",
    "print(list1)"
   ]
  },
  {
   "cell_type": "code",
   "execution_count": 32,
   "metadata": {},
   "outputs": [
    {
     "name": "stdout",
     "output_type": "stream",
     "text": [
      "[34, 400, 45, 56, 67, 100, 200, 300, 1, 2, 3, 1, 2, 3, 1, 3, 3, 1, 4, 3, 1, 4, 1]\n"
     ]
    }
   ],
   "source": [
    "list1.pop(-2)\n",
    "print(list1)"
   ]
  },
  {
   "cell_type": "code",
   "execution_count": 33,
   "metadata": {},
   "outputs": [
    {
     "data": {
      "text/plain": [
       "4"
      ]
     },
     "execution_count": 33,
     "metadata": {},
     "output_type": "execute_result"
    }
   ],
   "source": [
    "list1.pop(-2)"
   ]
  },
  {
   "cell_type": "code",
   "execution_count": 43,
   "metadata": {},
   "outputs": [
    {
     "name": "stdout",
     "output_type": "stream",
     "text": [
      "[34, 400, 45, 56, 67, 100, 200, 300, 1, 2, 3, 1]\n"
     ]
    }
   ],
   "source": [
    "list1.pop()\n",
    "print(list1)"
   ]
  },
  {
   "cell_type": "code",
   "execution_count": 44,
   "metadata": {},
   "outputs": [],
   "source": [
    "list1.remove(1)"
   ]
  },
  {
   "cell_type": "code",
   "execution_count": 45,
   "metadata": {},
   "outputs": [
    {
     "data": {
      "text/plain": [
       "[34, 400, 45, 56, 67, 100, 200, 300, 2, 3, 1]"
      ]
     },
     "execution_count": 45,
     "metadata": {},
     "output_type": "execute_result"
    }
   ],
   "source": [
    "list1"
   ]
  },
  {
   "cell_type": "code",
   "execution_count": 46,
   "metadata": {},
   "outputs": [
    {
     "data": {
      "text/plain": [
       "[34, 400, 45, 56, 67, 100, 200, 300, 2, 3, 1]"
      ]
     },
     "execution_count": 46,
     "metadata": {},
     "output_type": "execute_result"
    }
   ],
   "source": [
    "list1.clear\n",
    "list1"
   ]
  },
  {
   "cell_type": "code",
   "execution_count": 47,
   "metadata": {},
   "outputs": [
    {
     "data": {
      "text/plain": [
       "<function list.clear()>"
      ]
     },
     "execution_count": 47,
     "metadata": {},
     "output_type": "execute_result"
    }
   ],
   "source": [
    "list1.clear"
   ]
  },
  {
   "cell_type": "code",
   "execution_count": 48,
   "metadata": {},
   "outputs": [],
   "source": [
    "list1.clear()"
   ]
  },
  {
   "cell_type": "code",
   "execution_count": 49,
   "metadata": {},
   "outputs": [
    {
     "data": {
      "text/plain": [
       "[]"
      ]
     },
     "execution_count": 49,
     "metadata": {},
     "output_type": "execute_result"
    }
   ],
   "source": [
    "list1"
   ]
  },
  {
   "cell_type": "code",
   "execution_count": 52,
   "metadata": {},
   "outputs": [
    {
     "data": {
      "text/plain": [
       "[23, 34, 45, 56, 67, 78]"
      ]
     },
     "execution_count": 52,
     "metadata": {},
     "output_type": "execute_result"
    }
   ],
   "source": [
    "list1.extend([23,34,45,56,67,78])\n",
    "list1"
   ]
  },
  {
   "cell_type": "code",
   "execution_count": 66,
   "metadata": {},
   "outputs": [
    {
     "ename": "AttributeError",
     "evalue": "'list' object has no attribute 'replace'",
     "output_type": "error",
     "traceback": [
      "\u001b[1;31m---------------------------------------------------------------------------\u001b[0m",
      "\u001b[1;31mAttributeError\u001b[0m                            Traceback (most recent call last)",
      "\u001b[1;32m<ipython-input-66-db0e16ec308d>\u001b[0m in \u001b[0;36m<module>\u001b[1;34m\u001b[0m\n\u001b[1;32m----> 1\u001b[1;33m \u001b[0mlist1\u001b[0m\u001b[1;33m.\u001b[0m\u001b[0mreplace\u001b[0m\u001b[1;33m(\u001b[0m\u001b[1;36m0\u001b[0m\u001b[1;33m,\u001b[0m\u001b[1;36m23\u001b[0m\u001b[1;33m,\u001b[0m\u001b[1;36m3\u001b[0m\u001b[1;33m)\u001b[0m\u001b[1;33m\u001b[0m\u001b[1;33m\u001b[0m\u001b[0m\n\u001b[0m\u001b[0;32m      2\u001b[0m \u001b[0mlist1\u001b[0m\u001b[1;33m\u001b[0m\u001b[1;33m\u001b[0m\u001b[0m\n",
      "\u001b[1;31mAttributeError\u001b[0m: 'list' object has no attribute 'replace'"
     ]
    }
   ],
   "source": [
    "list1.replace(0,23,3)\n",
    "list1"
   ]
  },
  {
   "cell_type": "code",
   "execution_count": 54,
   "metadata": {},
   "outputs": [
    {
     "data": {
      "text/plain": [
       "[78, 67, 56, 45, 34, 23]"
      ]
     },
     "execution_count": 54,
     "metadata": {},
     "output_type": "execute_result"
    }
   ],
   "source": [
    "list1.reverse()\n",
    "list1"
   ]
  },
  {
   "cell_type": "code",
   "execution_count": 55,
   "metadata": {},
   "outputs": [
    {
     "data": {
      "text/plain": [
       "[78, 67, 56, 45, 34, 23]"
      ]
     },
     "execution_count": 55,
     "metadata": {},
     "output_type": "execute_result"
    }
   ],
   "source": [
    "list1"
   ]
  },
  {
   "cell_type": "code",
   "execution_count": 57,
   "metadata": {},
   "outputs": [
    {
     "data": {
      "text/plain": [
       "[78, 67, 56, 45, 34, 23]"
      ]
     },
     "execution_count": 57,
     "metadata": {},
     "output_type": "execute_result"
    }
   ],
   "source": [
    "list1.reverse()\n",
    "list1"
   ]
  },
  {
   "cell_type": "code",
   "execution_count": 58,
   "metadata": {},
   "outputs": [
    {
     "data": {
      "text/plain": [
       "[78, 67, 56, 45, 34, 23]"
      ]
     },
     "execution_count": 58,
     "metadata": {},
     "output_type": "execute_result"
    }
   ],
   "source": [
    "list1.index(56)\n",
    "list1"
   ]
  },
  {
   "cell_type": "code",
   "execution_count": 59,
   "metadata": {},
   "outputs": [
    {
     "data": {
      "text/plain": [
       "2"
      ]
     },
     "execution_count": 59,
     "metadata": {},
     "output_type": "execute_result"
    }
   ],
   "source": [
    "list1.index(56)"
   ]
  },
  {
   "cell_type": "code",
   "execution_count": 4,
   "metadata": {},
   "outputs": [
    {
     "data": {
      "text/plain": [
       "[4, 9, 16, 25, 36, 49]"
      ]
     },
     "execution_count": 4,
     "metadata": {},
     "output_type": "execute_result"
    }
   ],
   "source": [
    "#input:[2,4,5,7,8]\n",
    "#output:[4,16,25,49,64]\n",
    "l1=[2,3,4,5,6,7]\n",
    "l2=[]\n",
    "for i in range(0,(len(l1))):\n",
    "    l2.append(l1[i]*l1[i])\n",
    "l2"
   ]
  },
  {
   "cell_type": "code",
   "execution_count": 72,
   "metadata": {},
   "outputs": [
    {
     "name": "stdout",
     "output_type": "stream",
     "text": [
      "[4, 9, 16, 25, 36, 49]\n"
     ]
    }
   ],
   "source": [
    "#input:[2,4,5,7,8]\n",
    "#output:[4,16,25,49,64]\n",
    "l3=[]\n",
    "for i in l1: \n",
    "    l3.append(i**2)\n",
    "print(l3)"
   ]
  },
  {
   "cell_type": "code",
   "execution_count": 7,
   "metadata": {
    "scrolled": true
   },
   "outputs": [
    {
     "name": "stdout",
     "output_type": "stream",
     "text": [
      "size3\n",
      "2\n",
      "3\n",
      "4\n"
     ]
    },
    {
     "data": {
      "text/plain": [
       "[4, 9, 16]"
      ]
     },
     "execution_count": 7,
     "metadata": {},
     "output_type": "execute_result"
    }
   ],
   "source": [
    "#input:[2,4,5,7,8]\n",
    "#output:[4,16,25,49,64]\n",
    "m=int(input(\"size\"))\n",
    "l4=[]\n",
    "for i in range(m):\n",
    "    l4.append(int(input()))\n",
    "l5=[]\n",
    "for i in range(0,(len(l4))):\n",
    "    l5.append(l4[i]*l4[i])\n",
    "l5"
   ]
  },
  {
   "cell_type": "code",
   "execution_count": 5,
   "metadata": {},
   "outputs": [
    {
     "data": {
      "text/plain": [
       "[2, 4, 6]"
      ]
     },
     "execution_count": 5,
     "metadata": {},
     "output_type": "execute_result"
    }
   ],
   "source": [
    "l6=[]\n",
    "for i in l1:\n",
    "    if i%2==0:\n",
    "        l6.append(i)\n",
    "l6"
   ]
  },
  {
   "cell_type": "code",
   "execution_count": 6,
   "metadata": {},
   "outputs": [
    {
     "name": "stdout",
     "output_type": "stream",
     "text": [
      "4\n",
      "2\n",
      "3\n",
      "4\n",
      "5\n",
      "[2, 3, 4, 5]\n",
      "14\n"
     ]
    }
   ],
   "source": [
    "l7=[]\n",
    "n=int(input())\n",
    "sum=0\n",
    "for i in range(n):\n",
    "    l7.append(int(input()))\n",
    "    sum+=l7[i];\n",
    "print(l7)\n",
    "print(sum)"
   ]
  },
  {
   "cell_type": "markdown",
   "metadata": {},
   "source": [
    "# tuple"
   ]
  },
  {
   "cell_type": "code",
   "execution_count": 8,
   "metadata": {},
   "outputs": [
    {
     "name": "stdout",
     "output_type": "stream",
     "text": [
      "<class 'tuple'>\n"
     ]
    }
   ],
   "source": [
    "x=23,34,45,56,67\n",
    "print(type(x))\n"
   ]
  },
  {
   "cell_type": "code",
   "execution_count": 9,
   "metadata": {},
   "outputs": [
    {
     "name": "stdout",
     "output_type": "stream",
     "text": [
      "23 34 45\n"
     ]
    }
   ],
   "source": [
    "tup1=(23,34,45)\n",
    "x,y,z=tup1\n",
    "print(x,y,z)\n"
   ]
  },
  {
   "cell_type": "markdown",
   "metadata": {},
   "source": [
    "### dictionary\n",
    "#### syntax:{key1:value1,key2:value2,...}\n",
    "##### key:\n",
    "###### 1.key should be unique\n",
    "###### 2.key should be immutable....>int,float,tuple,string"
   ]
  },
  {
   "cell_type": "code",
   "execution_count": 11,
   "metadata": {},
   "outputs": [
    {
     "data": {
      "text/plain": [
       "'messi'"
      ]
     },
     "execution_count": 11,
     "metadata": {},
     "output_type": "execute_result"
    }
   ],
   "source": [
    "dict1={\"name\":\"messi\",\"job\":\"football\",\"position\":\"striker\"}\n",
    "dict1[\"name\"]"
   ]
  },
  {
   "cell_type": "code",
   "execution_count": 13,
   "metadata": {},
   "outputs": [
    {
     "data": {
      "text/plain": [
       "{'name': 'messi', 'job': 'football', 'position': 'top'}"
      ]
     },
     "execution_count": 13,
     "metadata": {},
     "output_type": "execute_result"
    }
   ],
   "source": [
    "#replace value in dictionary\n",
    "dict1[\"position\"]=\"top\"\n",
    "dict1"
   ]
  },
  {
   "cell_type": "code",
   "execution_count": 14,
   "metadata": {},
   "outputs": [
    {
     "data": {
      "text/plain": [
       "{'name': 'messi', 'job': 'football', 'position': 'top', 'rank': 'the best'}"
      ]
     },
     "execution_count": 14,
     "metadata": {},
     "output_type": "execute_result"
    }
   ],
   "source": [
    "#adding value in dictionary\n",
    "dict1[\"rank\"]=\"the best\"\n",
    "dict1"
   ]
  },
  {
   "cell_type": "code",
   "execution_count": 15,
   "metadata": {},
   "outputs": [
    {
     "data": {
      "text/plain": [
       "{'name': 'messi', 'job': 'football', 'rank': 'the best'}"
      ]
     },
     "execution_count": 15,
     "metadata": {},
     "output_type": "execute_result"
    }
   ],
   "source": [
    "#removing entry\n",
    "del dict1[\"position\"]\n",
    "dict1"
   ]
  },
  {
   "cell_type": "markdown",
   "metadata": {},
   "source": [
    "## Function:\n",
    "### def name_of_the_function(arg list):\n",
    "#### statements\n",
    "#### return\n"
   ]
  },
  {
   "cell_type": "code",
   "execution_count": 17,
   "metadata": {},
   "outputs": [
    {
     "name": "stdout",
     "output_type": "stream",
     "text": [
      "30\n",
      "300\n"
     ]
    }
   ],
   "source": [
    "def add(x,y):#function definition\n",
    "    return(x+y)\n",
    "    \n",
    "print(add(10,20))#function calling\n",
    "print(add(100,200))"
   ]
  },
  {
   "cell_type": "raw",
   "metadata": {},
   "source": [
    "def square(x):\n",
    "    return x*x\n",
    "def cube(x):\n",
    "    return square(x)*x\n",
    "print(cube(3))"
   ]
  },
  {
   "cell_type": "code",
   "execution_count": 19,
   "metadata": {},
   "outputs": [
    {
     "name": "stdout",
     "output_type": "stream",
     "text": [
      "my,name,is,"
     ]
    }
   ],
   "source": [
    "string=\"my name is\"\n",
    "for i in string.split():\n",
    "    print(i,end=\",\")"
   ]
  },
  {
   "cell_type": "code",
   "execution_count": null,
   "metadata": {},
   "outputs": [],
   "source": [
    "for"
   ]
  }
 ],
 "metadata": {
  "kernelspec": {
   "display_name": "Python 3",
   "language": "python",
   "name": "python3"
  },
  "language_info": {
   "codemirror_mode": {
    "name": "ipython",
    "version": 3
   },
   "file_extension": ".py",
   "mimetype": "text/x-python",
   "name": "python",
   "nbconvert_exporter": "python",
   "pygments_lexer": "ipython3",
   "version": "3.7.4"
  }
 },
 "nbformat": 4,
 "nbformat_minor": 2
}
